{
 "cells": [
  {
   "cell_type": "code",
   "execution_count": 10,
   "id": "556251bd-c4c1-473f-b5da-b09615024477",
   "metadata": {},
   "outputs": [],
   "source": [
    "import pandas as pd\n",
    "import numpy as np\n",
    "import matplotlib.pyplot as plt\n",
    "import seaborn as sns\n",
    "from sklearn.preprocessing import StandardScaler, LabelEncoder\n"
   ]
  },
  {
   "cell_type": "code",
   "execution_count": 13,
   "id": "ef0cdce3-d151-40e0-8258-9e36e4d9143c",
   "metadata": {},
   "outputs": [],
   "source": [
    "data = pd.read_csv('C:\\\\Users\\\\kalya\\\\Downloads\\\\Datasset Wine\\\\winequality-red.csv')\n",
    "\n"
   ]
  },
  {
   "cell_type": "code",
   "execution_count": 14,
   "id": "60c7d13e-ed26-4672-a2fa-674bc1b93aeb",
   "metadata": {},
   "outputs": [
    {
     "name": "stdout",
     "output_type": "stream",
     "text": [
      "  fixed acidity;\"volatile acidity\";\"citric acid\";\"residual sugar\";\"chlorides\";\"free sulfur dioxide\";\"total sulfur dioxide\";\"density\";\"pH\";\"sulphates\";\"alcohol\";\"quality\"\n",
      "0   7.4;0.7;0;1.9;0.076;11;34;0.9978;3.51;0.56;9.4;5                                                                                                                     \n",
      "1   7.8;0.88;0;2.6;0.098;25;67;0.9968;3.2;0.68;9.8;5                                                                                                                     \n",
      "2  7.8;0.76;0.04;2.3;0.092;15;54;0.997;3.26;0.65;...                                                                                                                     \n",
      "3  11.2;0.28;0.56;1.9;0.075;17;60;0.998;3.16;0.58...                                                                                                                     \n",
      "4   7.4;0.7;0;1.9;0.076;11;34;0.9978;3.51;0.56;9.4;5                                                                                                                     \n"
     ]
    }
   ],
   "source": [
    "print(data.head())"
   ]
  },
  {
   "cell_type": "code",
   "execution_count": 15,
   "id": "7e6a59bf-1ed3-4446-9114-952de0415efc",
   "metadata": {},
   "outputs": [
    {
     "name": "stdout",
     "output_type": "stream",
     "text": [
      "       fixed acidity;\"volatile acidity\";\"citric acid\";\"residual sugar\";\"chlorides\";\"free sulfur dioxide\";\"total sulfur dioxide\";\"density\";\"pH\";\"sulphates\";\"alcohol\";\"quality\"\n",
      "count                                                1599                                                                                                                     \n",
      "unique                                               1359                                                                                                                     \n",
      "top     7.2;0.36;0.46;2.1;0.074;24;44;0.99534;3.4;0.85...                                                                                                                     \n",
      "freq                                                    4                                                                                                                     \n"
     ]
    }
   ],
   "source": [
    "print(data.describe())\n"
   ]
  },
  {
   "cell_type": "code",
   "execution_count": 16,
   "id": "fee1b636-cd9d-4f4d-ad2f-8c9ab3dfdf55",
   "metadata": {},
   "outputs": [
    {
     "name": "stdout",
     "output_type": "stream",
     "text": [
      "fixed acidity;\"volatile acidity\";\"citric acid\";\"residual sugar\";\"chlorides\";\"free sulfur dioxide\";\"total sulfur dioxide\";\"density\";\"pH\";\"sulphates\";\"alcohol\";\"quality\"    0\n",
      "dtype: int64\n"
     ]
    }
   ],
   "source": [
    "print(data.isnull().sum())\n"
   ]
  },
  {
   "cell_type": "code",
   "execution_count": 17,
   "id": "ac2c3066-69bf-403f-bcfd-9d771eb38a14",
   "metadata": {},
   "outputs": [
    {
     "name": "stdout",
     "output_type": "stream",
     "text": [
      "<class 'pandas.core.frame.DataFrame'>\n",
      "RangeIndex: 1599 entries, 0 to 1598\n",
      "Data columns (total 1 columns):\n",
      " #   Column                                                                                                                                                                   Non-Null Count  Dtype \n",
      "---  ------                                                                                                                                                                   --------------  ----- \n",
      " 0   fixed acidity;\"volatile acidity\";\"citric acid\";\"residual sugar\";\"chlorides\";\"free sulfur dioxide\";\"total sulfur dioxide\";\"density\";\"pH\";\"sulphates\";\"alcohol\";\"quality\"  1599 non-null   object\n",
      "dtypes: object(1)\n",
      "memory usage: 12.6+ KB\n",
      "None\n"
     ]
    }
   ],
   "source": [
    "print(data.info())"
   ]
  },
  {
   "cell_type": "code",
   "execution_count": 19,
   "id": "29b36876-ca12-4071-a820-4a7d0a0b9622",
   "metadata": {},
   "outputs": [],
   "source": [
    "data = data.apply(pd.to_numeric, errors='coerce')"
   ]
  },
  {
   "cell_type": "code",
   "execution_count": 20,
   "id": "aa555f16-9091-44b2-a6b0-a2d891cf10b8",
   "metadata": {},
   "outputs": [
    {
     "name": "stdout",
     "output_type": "stream",
     "text": [
      "fixed acidity;\"volatile acidity\";\"citric acid\";\"residual sugar\";\"chlorides\";\"free sulfur dioxide\";\"total sulfur dioxide\";\"density\";\"pH\";\"sulphates\";\"alcohol\";\"quality\"    1599\n",
      "dtype: int64\n"
     ]
    }
   ],
   "source": [
    "print(data.isnull().sum())"
   ]
  },
  {
   "cell_type": "code",
   "execution_count": 21,
   "id": "90c7b41b-dfed-4280-a652-726c45296840",
   "metadata": {},
   "outputs": [],
   "source": [
    "data.fillna(data.mean(), inplace=True)"
   ]
  },
  {
   "cell_type": "code",
   "execution_count": 22,
   "id": "cd81f034-ebeb-4447-b25d-c0d6e7661679",
   "metadata": {},
   "outputs": [],
   "source": [
    "Q1 = data.quantile(0.25)\n",
    "Q3 = data.quantile(0.75)\n",
    "IQR = Q3 - Q1\n"
   ]
  },
  {
   "cell_type": "code",
   "execution_count": 23,
   "id": "6a47918e-cece-4aac-9a98-9b0d190ce01b",
   "metadata": {},
   "outputs": [
    {
     "name": "stdout",
     "output_type": "stream",
     "text": [
      "(1599, 1)\n"
     ]
    }
   ],
   "source": [
    "data = data[~((data < (Q1 - 1.5 * IQR)) | (data > (Q3 + 1.5 * IQR))).any(axis=1)]\n",
    "\n",
    "\n",
    "print(data.shape)"
   ]
  },
  {
   "cell_type": "code",
   "execution_count": 25,
   "id": "c28b0a5c-8db1-46fe-a18d-dcdc2caea732",
   "metadata": {},
   "outputs": [
    {
     "name": "stdout",
     "output_type": "stream",
     "text": [
      "   fixed acidity  volatile acidity  citric acid  residual sugar  chlorides  \\\n",
      "0            7.4              0.70         0.00             1.9      0.076   \n",
      "1            7.8              0.88         0.00             2.6      0.098   \n",
      "2            7.8              0.76         0.04             2.3      0.092   \n",
      "3           11.2              0.28         0.56             1.9      0.075   \n",
      "4            7.4              0.70         0.00             1.9      0.076   \n",
      "\n",
      "   free sulfur dioxide  total sulfur dioxide  density    pH  sulphates  \\\n",
      "0                 11.0                  34.0   0.9978  3.51       0.56   \n",
      "1                 25.0                  67.0   0.9968  3.20       0.68   \n",
      "2                 15.0                  54.0   0.9970  3.26       0.65   \n",
      "3                 17.0                  60.0   0.9980  3.16       0.58   \n",
      "4                 11.0                  34.0   0.9978  3.51       0.56   \n",
      "\n",
      "   alcohol  quality  \n",
      "0      9.4        5  \n",
      "1      9.8        5  \n",
      "2      9.8        5  \n",
      "3      9.8        6  \n",
      "4      9.4        5  \n"
     ]
    }
   ],
   "source": [
    "\n",
    "data = pd.read_csv('C:\\\\Users\\\\kalya\\\\Downloads\\\\Datasset Wine\\\\winequality-red.csv', sep=';')\n",
    "\n",
    "print(data.head())\n"
   ]
  },
  {
   "cell_type": "code",
   "execution_count": 26,
   "id": "a5258482-212a-4224-a9eb-9d88409129f1",
   "metadata": {},
   "outputs": [
    {
     "name": "stdout",
     "output_type": "stream",
     "text": [
      "(1599, 12)\n",
      "   fixed acidity  volatile acidity  citric acid  residual sugar  chlorides  \\\n",
      "0      -0.528360          0.961877    -1.391472       -0.453218  -0.243707   \n",
      "1      -0.298547          1.967442    -1.391472        0.043416   0.223875   \n",
      "2      -0.298547          1.297065    -1.186070       -0.169427   0.096353   \n",
      "3       1.654856         -1.384443     1.484154       -0.453218  -0.264960   \n",
      "4      -0.528360          0.961877    -1.391472       -0.453218  -0.243707   \n",
      "\n",
      "   free sulfur dioxide  total sulfur dioxide   density        pH  sulphates  \\\n",
      "0            -0.466193             -0.379133  0.558274  1.288643  -0.579207   \n",
      "1             0.872638              0.624363  0.028261 -0.719933   0.128950   \n",
      "2            -0.083669              0.229047  0.134264 -0.331177  -0.048089   \n",
      "3             0.107592              0.411500  0.664277 -0.979104  -0.461180   \n",
      "4            -0.466193             -0.379133  0.558274  1.288643  -0.579207   \n",
      "\n",
      "    alcohol   quality  \n",
      "0 -0.960246 -0.787823  \n",
      "1 -0.584777 -0.787823  \n",
      "2 -0.584777 -0.787823  \n",
      "3 -0.584777  0.450848  \n",
      "4 -0.960246 -0.787823  \n",
      "fixed acidity           0\n",
      "volatile acidity        0\n",
      "citric acid             0\n",
      "residual sugar          0\n",
      "chlorides               0\n",
      "free sulfur dioxide     0\n",
      "total sulfur dioxide    0\n",
      "density                 0\n",
      "pH                      0\n",
      "sulphates               0\n",
      "alcohol                 0\n",
      "quality                 0\n",
      "dtype: int64\n",
      "<class 'pandas.core.frame.DataFrame'>\n",
      "RangeIndex: 1599 entries, 0 to 1598\n",
      "Data columns (total 12 columns):\n",
      " #   Column                Non-Null Count  Dtype  \n",
      "---  ------                --------------  -----  \n",
      " 0   fixed acidity         1599 non-null   float64\n",
      " 1   volatile acidity      1599 non-null   float64\n",
      " 2   citric acid           1599 non-null   float64\n",
      " 3   residual sugar        1599 non-null   float64\n",
      " 4   chlorides             1599 non-null   float64\n",
      " 5   free sulfur dioxide   1599 non-null   float64\n",
      " 6   total sulfur dioxide  1599 non-null   float64\n",
      " 7   density               1599 non-null   float64\n",
      " 8   pH                    1599 non-null   float64\n",
      " 9   sulphates             1599 non-null   float64\n",
      " 10  alcohol               1599 non-null   float64\n",
      " 11  quality               1599 non-null   float64\n",
      "dtypes: float64(12)\n",
      "memory usage: 150.0 KB\n",
      "None\n",
      "       fixed acidity  volatile acidity   citric acid  residual sugar  \\\n",
      "count   1.599000e+03      1.599000e+03  1.599000e+03    1.599000e+03   \n",
      "mean    3.554936e-16      1.733031e-16 -8.887339e-17   -1.244227e-16   \n",
      "std     1.000313e+00      1.000313e+00  1.000313e+00    1.000313e+00   \n",
      "min    -2.137045e+00     -2.278280e+00 -1.391472e+00   -1.162696e+00   \n",
      "25%    -7.007187e-01     -7.699311e-01 -9.293181e-01   -4.532184e-01   \n",
      "50%    -2.410944e-01     -4.368911e-02 -5.636026e-02   -2.403750e-01   \n",
      "75%     5.057952e-01      6.266881e-01  7.652471e-01    4.341614e-02   \n",
      "max     4.355149e+00      5.877976e+00  3.743574e+00    9.195681e+00   \n",
      "\n",
      "          chlorides  free sulfur dioxide  total sulfur dioxide       density  \\\n",
      "count  1.599000e+03         1.599000e+03          1.599000e+03  1.599000e+03   \n",
      "mean   3.732682e-16        -6.221137e-17          4.443669e-17 -3.473172e-14   \n",
      "std    1.000313e+00         1.000313e+00          1.000313e+00  1.000313e+00   \n",
      "min   -1.603945e+00        -1.422500e+00         -1.230584e+00 -3.538731e+00   \n",
      "25%   -3.712290e-01        -8.487156e-01         -7.440403e-01 -6.077557e-01   \n",
      "50%   -1.799455e-01        -1.793002e-01         -2.574968e-01  1.760083e-03   \n",
      "75%    5.384542e-02         4.901152e-01          4.723184e-01  5.768249e-01   \n",
      "max    1.112703e+01         5.367284e+00          7.375154e+00  3.680055e+00   \n",
      "\n",
      "                 pH     sulphates       alcohol       quality  \n",
      "count  1.599000e+03  1.599000e+03  1.599000e+03  1.599000e+03  \n",
      "mean   2.861723e-15  6.754377e-16  1.066481e-16  8.887339e-17  \n",
      "std    1.000313e+00  1.000313e+00  1.000313e+00  1.000313e+00  \n",
      "min   -3.700401e+00 -1.936507e+00 -1.898919e+00 -3.265165e+00  \n",
      "25%   -6.551405e-01 -6.382196e-01 -8.663789e-01 -7.878226e-01  \n",
      "50%   -7.212705e-03 -2.251281e-01 -2.093081e-01  4.508484e-01  \n",
      "75%    5.759223e-01  4.240158e-01  6.354971e-01  4.508484e-01  \n",
      "max    4.528282e+00  7.918677e+00  4.202453e+00  2.928190e+00  \n"
     ]
    }
   ],
   "source": [
    "print(data.shape)\n",
    "\n",
    "scaler = StandardScaler()\n",
    "data_scaled = scaler.fit_transform(data)\n",
    "\n",
    "\n",
    "data_scaled = pd.DataFrame(data_scaled, columns=data.columns)\n",
    "\n",
    "\n",
    "print(data_scaled.head())\n",
    "\n",
    "\n"
   ]
  },
  {
   "cell_type": "code",
   "execution_count": 27,
   "id": "75c335e5-b7d5-4cac-a6ee-7ac9d0894fbf",
   "metadata": {},
   "outputs": [
    {
     "name": "stdout",
     "output_type": "stream",
     "text": [
      "fixed acidity           0\n",
      "volatile acidity        0\n",
      "citric acid             0\n",
      "residual sugar          0\n",
      "chlorides               0\n",
      "free sulfur dioxide     0\n",
      "total sulfur dioxide    0\n",
      "density                 0\n",
      "pH                      0\n",
      "sulphates               0\n",
      "alcohol                 0\n",
      "quality                 0\n",
      "dtype: int64\n",
      "<class 'pandas.core.frame.DataFrame'>\n",
      "RangeIndex: 1599 entries, 0 to 1598\n",
      "Data columns (total 12 columns):\n",
      " #   Column                Non-Null Count  Dtype  \n",
      "---  ------                --------------  -----  \n",
      " 0   fixed acidity         1599 non-null   float64\n",
      " 1   volatile acidity      1599 non-null   float64\n",
      " 2   citric acid           1599 non-null   float64\n",
      " 3   residual sugar        1599 non-null   float64\n",
      " 4   chlorides             1599 non-null   float64\n",
      " 5   free sulfur dioxide   1599 non-null   float64\n",
      " 6   total sulfur dioxide  1599 non-null   float64\n",
      " 7   density               1599 non-null   float64\n",
      " 8   pH                    1599 non-null   float64\n",
      " 9   sulphates             1599 non-null   float64\n",
      " 10  alcohol               1599 non-null   float64\n",
      " 11  quality               1599 non-null   float64\n",
      "dtypes: float64(12)\n",
      "memory usage: 150.0 KB\n",
      "None\n",
      "       fixed acidity  volatile acidity   citric acid  residual sugar  \\\n",
      "count   1.599000e+03      1.599000e+03  1.599000e+03    1.599000e+03   \n",
      "mean    3.554936e-16      1.733031e-16 -8.887339e-17   -1.244227e-16   \n",
      "std     1.000313e+00      1.000313e+00  1.000313e+00    1.000313e+00   \n",
      "min    -2.137045e+00     -2.278280e+00 -1.391472e+00   -1.162696e+00   \n",
      "25%    -7.007187e-01     -7.699311e-01 -9.293181e-01   -4.532184e-01   \n",
      "50%    -2.410944e-01     -4.368911e-02 -5.636026e-02   -2.403750e-01   \n",
      "75%     5.057952e-01      6.266881e-01  7.652471e-01    4.341614e-02   \n",
      "max     4.355149e+00      5.877976e+00  3.743574e+00    9.195681e+00   \n",
      "\n",
      "          chlorides  free sulfur dioxide  total sulfur dioxide       density  \\\n",
      "count  1.599000e+03         1.599000e+03          1.599000e+03  1.599000e+03   \n",
      "mean   3.732682e-16        -6.221137e-17          4.443669e-17 -3.473172e-14   \n",
      "std    1.000313e+00         1.000313e+00          1.000313e+00  1.000313e+00   \n",
      "min   -1.603945e+00        -1.422500e+00         -1.230584e+00 -3.538731e+00   \n",
      "25%   -3.712290e-01        -8.487156e-01         -7.440403e-01 -6.077557e-01   \n",
      "50%   -1.799455e-01        -1.793002e-01         -2.574968e-01  1.760083e-03   \n",
      "75%    5.384542e-02         4.901152e-01          4.723184e-01  5.768249e-01   \n",
      "max    1.112703e+01         5.367284e+00          7.375154e+00  3.680055e+00   \n",
      "\n",
      "                 pH     sulphates       alcohol       quality  \n",
      "count  1.599000e+03  1.599000e+03  1.599000e+03  1.599000e+03  \n",
      "mean   2.861723e-15  6.754377e-16  1.066481e-16  8.887339e-17  \n",
      "std    1.000313e+00  1.000313e+00  1.000313e+00  1.000313e+00  \n",
      "min   -3.700401e+00 -1.936507e+00 -1.898919e+00 -3.265165e+00  \n",
      "25%   -6.551405e-01 -6.382196e-01 -8.663789e-01 -7.878226e-01  \n",
      "50%   -7.212705e-03 -2.251281e-01 -2.093081e-01  4.508484e-01  \n",
      "75%    5.759223e-01  4.240158e-01  6.354971e-01  4.508484e-01  \n",
      "max    4.528282e+00  7.918677e+00  4.202453e+00  2.928190e+00  \n"
     ]
    }
   ],
   "source": [
    "print(data_scaled.isnull().sum())\n",
    "\n",
    "\n",
    "print(data_scaled.info())\n",
    "\n",
    "print(data_scaled.describe())\n",
    "\n",
    "\n",
    "data_scaled.to_csv('cleaned_wine_quality.csv', index=False)"
   ]
  },
  {
   "cell_type": "code",
   "execution_count": null,
   "id": "28122b32-1621-44f4-817e-73e795e61607",
   "metadata": {},
   "outputs": [],
   "source": []
  }
 ],
 "metadata": {
  "kernelspec": {
   "display_name": "Python 3 (ipykernel)",
   "language": "python",
   "name": "python3"
  },
  "language_info": {
   "codemirror_mode": {
    "name": "ipython",
    "version": 3
   },
   "file_extension": ".py",
   "mimetype": "text/x-python",
   "name": "python",
   "nbconvert_exporter": "python",
   "pygments_lexer": "ipython3",
   "version": "3.11.9"
  }
 },
 "nbformat": 4,
 "nbformat_minor": 5
}
